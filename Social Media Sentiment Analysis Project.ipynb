{
  "nbformat": 4,
  "nbformat_minor": 0,
  "metadata": {
    "colab": {
      "provenance": []
    },
    "kernelspec": {
      "name": "python3",
      "display_name": "Python 3"
    },
    "language_info": {
      "name": "python"
    }
  },
  "cells": [
    {
      "cell_type": "code",
      "source": [
        "# Install pyspark\n",
        "!pip install pyspark"
      ],
      "metadata": {
        "colab": {
          "base_uri": "https://localhost:8080/"
        },
        "id": "mtMg72MRIG61",
        "outputId": "c78c11b3-9fdd-40fb-b70a-9b53b4c12cd6"
      },
      "execution_count": 1,
      "outputs": [
        {
          "output_type": "stream",
          "name": "stdout",
          "text": [
            "Looking in indexes: https://pypi.org/simple, https://us-python.pkg.dev/colab-wheels/public/simple/\n",
            "Collecting pyspark\n",
            "  Downloading pyspark-3.3.2.tar.gz (281.4 MB)\n",
            "\u001b[2K     \u001b[90m━━━━━━━━━━━━━━━━━━━━━━━━━━━━━━━━━━━━━━━\u001b[0m \u001b[32m281.4/281.4 MB\u001b[0m \u001b[31m4.7 MB/s\u001b[0m eta \u001b[36m0:00:00\u001b[0m\n",
            "\u001b[?25h  Preparing metadata (setup.py) ... \u001b[?25l\u001b[?25hdone\n",
            "Collecting py4j==0.10.9.5\n",
            "  Downloading py4j-0.10.9.5-py2.py3-none-any.whl (199 kB)\n",
            "\u001b[2K     \u001b[90m━━━━━━━━━━━━━━━━━━━━━━━━━━━━━━━━━━━━━━\u001b[0m \u001b[32m199.7/199.7 KB\u001b[0m \u001b[31m21.3 MB/s\u001b[0m eta \u001b[36m0:00:00\u001b[0m\n",
            "\u001b[?25hBuilding wheels for collected packages: pyspark\n",
            "  Building wheel for pyspark (setup.py) ... \u001b[?25l\u001b[?25hdone\n",
            "  Created wheel for pyspark: filename=pyspark-3.3.2-py2.py3-none-any.whl size=281824025 sha256=55cc4e674d9c3af164a80d60b47a75b4fc0813eb492e7b9ab4fac7f08dce4422\n",
            "  Stored in directory: /root/.cache/pip/wheels/b1/59/a0/a1a0624b5e865fd389919c1a10f53aec9b12195d6747710baf\n",
            "Successfully built pyspark\n",
            "Installing collected packages: py4j, pyspark\n",
            "Successfully installed py4j-0.10.9.5 pyspark-3.3.2\n"
          ]
        }
      ]
    },
    {
      "cell_type": "code",
      "source": [
        "#install needed libraries\n",
        "import math\n",
        "import matplotlib\n",
        "import numpy as np\n",
        "import pandas as pd\n",
        "import seaborn as sns\n",
        "import matplotlib.pyplot as plt\n",
        "import pyspark.sql.functions as F\n",
        "from pyspark.sql import SQLContext\n",
        "from pyspark import SparkContext\n",
        "from pyspark.sql.types import *\n",
        "from pyspark.sql import functions as f\n",
        "from pyspark.sql.types import IntegerType\n",
        "from IPython import display\n",
        "\n"
      ],
      "metadata": {
        "id": "C9KQjF5FILAu"
      },
      "execution_count": 2,
      "outputs": []
    },
    {
      "cell_type": "code",
      "source": [
        "#create SparkContext\n",
        "sc =SparkContext()\n",
        "sqlContext = SQLContext(sc)"
      ],
      "metadata": {
        "colab": {
          "base_uri": "https://localhost:8080/"
        },
        "id": "uuqr5-x_IUub",
        "outputId": "810302a3-ce21-44de-af58-2d0eb6d7903f"
      },
      "execution_count": 3,
      "outputs": [
        {
          "output_type": "stream",
          "name": "stderr",
          "text": [
            "/usr/local/lib/python3.8/dist-packages/pyspark/sql/context.py:112: FutureWarning: Deprecated in 3.0.0. Use SparkSession.builder.getOrCreate() instead.\n",
            "  warnings.warn(\n"
          ]
        }
      ]
    },
    {
      "cell_type": "markdown",
      "source": [
        "**Data_phase**"
      ],
      "metadata": {
        "id": "mBZiWtzuNsVV"
      }
    },
    {
      "cell_type": "code",
      "source": [
        "customSchema = StructType([\n",
        "    StructField(\"clean_text\", StringType()), \n",
        "    StructField(\"category\", IntegerType())])"
      ],
      "metadata": {
        "id": "_Th3QPFtIUv3"
      },
      "execution_count": 4,
      "outputs": []
    },
    {
      "cell_type": "code",
      "source": [
        "#data.csv file contains 10000 tweets with seach query \n",
        "reddit = '/content/Reddit_Data.csv'\n",
        "twitter = '/content/Twitter_Data.csv'"
      ],
      "metadata": {
        "id": "rWQ1wLZgIUzB"
      },
      "execution_count": 5,
      "outputs": []
    },
    {
      "cell_type": "code",
      "source": [
        "df1 = sqlContext.read.format(\"csv\").option(\"header\", \"true\").schema(customSchema).load(twitter)\n",
        "df1.count()"
      ],
      "metadata": {
        "id": "u59u6ZWZIU0h",
        "colab": {
          "base_uri": "https://localhost:8080/"
        },
        "outputId": "fca184d0-e6f0-4289-de58-ddabf2e473dc"
      },
      "execution_count": 6,
      "outputs": [
        {
          "output_type": "execute_result",
          "data": {
            "text/plain": [
              "192131"
            ]
          },
          "metadata": {},
          "execution_count": 6
        }
      ]
    },
    {
      "cell_type": "code",
      "source": [
        "df2 = sqlContext.read.format(\"csv\").option(\"header\", \"true\").schema(customSchema).load(reddit)\n",
        "df2.count()"
      ],
      "metadata": {
        "id": "qmg8sLCJI-pB",
        "colab": {
          "base_uri": "https://localhost:8080/"
        },
        "outputId": "e0a93eb1-8334-4e93-b661-24777130a75f"
      },
      "execution_count": 7,
      "outputs": [
        {
          "output_type": "execute_result",
          "data": {
            "text/plain": [
              "38305"
            ]
          },
          "metadata": {},
          "execution_count": 7
        }
      ]
    },
    {
      "cell_type": "markdown",
      "source": [
        "**Merge twitter dataset and radit dataset in one dataframe**"
      ],
      "metadata": {
        "id": "gKkptAsRZ9Pq"
      }
    },
    {
      "cell_type": "code",
      "source": [
        "df = df1.union(df2)#, emp_acc_LoadCsvDF(\"acc_id\").equalTo(emp_info_LoadCsvDF(\"info_id\")), \"inner\").selectExpr(\"acc_id\", \"name\", \"salary\", \"dept_id\", \"phone\", \"address\", \"email\")\n",
        "df.count() "
      ],
      "metadata": {
        "id": "kUa1UXrbIU37",
        "colab": {
          "base_uri": "https://localhost:8080/"
        },
        "outputId": "aa621897-c7d6-4154-edb5-63cb06832fd9"
      },
      "execution_count": 8,
      "outputs": [
        {
          "output_type": "execute_result",
          "data": {
            "text/plain": [
              "230436"
            ]
          },
          "metadata": {},
          "execution_count": 8
        }
      ]
    },
    {
      "cell_type": "code",
      "source": [
        "# Find Count of Null, None, NaN of All DataFrame Columns\n",
        "from pyspark.sql.functions import col,isnan, when, count\n",
        "df.select([count(when(isnan(c) | col(c).isNull(), c)).alias(c) for c in df.columns]\n",
        "   ).show()"
      ],
      "metadata": {
        "id": "UpVSrjEIArYN",
        "colab": {
          "base_uri": "https://localhost:8080/"
        },
        "outputId": "1c4b0175-40f6-4026-c24d-ba404391e7f3"
      },
      "execution_count": 9,
      "outputs": [
        {
          "output_type": "stream",
          "name": "stdout",
          "text": [
            "+----------+--------+\n",
            "|clean_text|category|\n",
            "+----------+--------+\n",
            "|       104|   34755|\n",
            "+----------+--------+\n",
            "\n"
          ]
        }
      ]
    },
    {
      "cell_type": "code",
      "source": [
        "df.describe().show()"
      ],
      "metadata": {
        "id": "MJY_-b7hAtGM",
        "colab": {
          "base_uri": "https://localhost:8080/"
        },
        "outputId": "78861f03-1175-4cf9-f3ad-aab1ae0ff988"
      },
      "execution_count": 10,
      "outputs": [
        {
          "output_type": "stream",
          "name": "stdout",
          "text": [
            "+-------+--------------------+------------------+\n",
            "|summary|          clean_text|          category|\n",
            "+-------+--------------------+------------------+\n",
            "|  count|              230333|            195681|\n",
            "|   mean|                 NaN|0.2213602751416847|\n",
            "| stddev|                 NaN|0.7816161106904199|\n",
            "|    min|                    |                -1|\n",
            "|    max|�modi mistake� ch...|                 1|\n",
            "+-------+--------------------+------------------+\n",
            "\n"
          ]
        }
      ]
    },
    {
      "cell_type": "code",
      "source": [
        "def find_outliers(df):\n",
        "\n",
        "    # Identifying the numerical columns in a spark dataframe\n",
        "    numeric_columns = [column[0] for column in df.dtypes if column[1]=='int']\n",
        "\n",
        "    # Using the `for` loop to create new columns by identifying the outliers for each feature\n",
        "    for column in numeric_columns:\n",
        "\n",
        "        less_Q1 = 'less_Q1_{}'.format(column)\n",
        "        more_Q3 = 'more_Q3_{}'.format(column)\n",
        "        Q1 = 'Q1_{}'.format(column)\n",
        "        Q3 = 'Q3_{}'.format(column)\n",
        "\n",
        "        # Q1 : First Quartile ., Q3 : Third Quartile\n",
        "        Q1 = df.approxQuantile(column,[0.25],relativeError=0)\n",
        "        Q3 = df.approxQuantile(column,[0.75],relativeError=0)\n",
        "        \n",
        "        # IQR : Inter Quantile Range\n",
        "        # We need to define the index [0], as Q1 & Q3 are a set of lists., to perform a mathematical operation\n",
        "        # Q1 & Q3 are defined seperately so as to have a clear indication on First Quantile & 3rd Quantile\n",
        "        IQR = Q3[0] - Q1[0]\n",
        "        \n",
        "        #selecting the data, with -1.5*IQR to + 1.5*IQR., where param = 1.5 default value\n",
        "        less_Q1 =  Q1[0] - 1.5*IQR\n",
        "        more_Q3 =  Q3[0] + 1.5*IQR\n",
        "        \n",
        "        isOutlierCol = 'is_outlier_{}'.format(column)\n",
        "        \n",
        "        df = df.withColumn(isOutlierCol,f.when((df[column] > more_Q3) | (df[column] < less_Q1), 1).otherwise(0))\n",
        "    \n",
        "\n",
        "    # Selecting the specific columns which we have added above, to check if there are any outliers\n",
        "    selected_columns = [column for column in df.columns if column.startswith(\"is_outlier\")]\n",
        "\n",
        "    # Adding all the outlier columns into a new colum \"total_outliers\", to see the total number of outliers\n",
        "    df = df.withColumn('total_outliers',sum(df[column] for column in selected_columns))\n",
        "\n",
        "    # Dropping the extra columns created above, just to create nice dataframe., without extra columns\n",
        "    df = df.drop(*[column for column in df.columns if column.startswith(\"is_outlier\")])\n",
        "\n",
        "    return df"
      ],
      "metadata": {
        "id": "TboSl_qtgTkp"
      },
      "execution_count": 11,
      "outputs": []
    },
    {
      "cell_type": "code",
      "source": [
        "#detect outliers in our dataset\n",
        "new_df = find_outliers(df)\n",
        "new_df.show()"
      ],
      "metadata": {
        "colab": {
          "base_uri": "https://localhost:8080/"
        },
        "id": "vI4nOjUhgV4i",
        "outputId": "96373a3f-9d6c-447d-9045-46942c591b04"
      },
      "execution_count": 12,
      "outputs": [
        {
          "output_type": "stream",
          "name": "stdout",
          "text": [
            "+--------------------+--------+--------------+\n",
            "|          clean_text|category|total_outliers|\n",
            "+--------------------+--------+--------------+\n",
            "|when modi promise...|      -1|             0|\n",
            "|talk all the nons...|       0|             0|\n",
            "|what did just say...|       1|             0|\n",
            "|asking his suppor...|       1|             0|\n",
            "|answer who among ...|       1|             0|\n",
            "|kiya tho refresh ...|       0|             0|\n",
            "|surat women perfo...|    null|             0|\n",
            "|                  ,0|    null|             0|\n",
            "|this comes from c...|       0|             0|\n",
            "|with upcoming ele...|       1|             0|\n",
            "|gandhi was gay do...|       1|             0|\n",
            "|things like demon...|       1|             0|\n",
            "|hope tuthukudi pe...|       1|             0|\n",
            "|calm waters where...|       1|             0|\n",
            "|one vote can make...|       0|             0|\n",
            "|one vote can make...|       0|             0|\n",
            "|vote such party a...|      -1|             0|\n",
            "|vote modi who has...|       0|             0|\n",
            "|through our vote ...|       0|             0|\n",
            "|dont play with th...|    null|             0|\n",
            "+--------------------+--------+--------------+\n",
            "only showing top 20 rows\n",
            "\n"
          ]
        }
      ]
    },
    {
      "cell_type": "code",
      "source": [
        "def pieplot(df, col, lim=10, yname=None):\n",
        "    \n",
        "    '''\n",
        "    This function makes a pie chart for the Spark dataframe df \n",
        "    for categorical column col only selecting top categories \n",
        "    as specified by lim. \n",
        "    '''\n",
        "    \n",
        "    # Grouping by the categories, counting on each categories \n",
        "    # and ordering them by the count\n",
        "    classes = df.groupBy(col).count().orderBy('count', ascending=False)\n",
        "    \n",
        "    # Take first 'lim' number of rows and convert to pandas  \n",
        "    pd_df = classes.limit(lim).toPandas()\n",
        "    \n",
        "    # Making plot \n",
        "    pd_df.plot(kind='pie', x=col, y='count', \\\n",
        "           labels=pd_df[col], legend=False)\n",
        "    plt.ylabel(None)\n",
        "    plt.show()"
      ],
      "metadata": {
        "id": "kXLx8JZ6gq_Z"
      },
      "execution_count": 13,
      "outputs": []
    },
    {
      "cell_type": "code",
      "source": [
        "#show data with nan values\n",
        "pieplot(df, 'category')"
      ],
      "metadata": {
        "colab": {
          "base_uri": "https://localhost:8080/",
          "height": 248
        },
        "id": "dD85t4yigs6a",
        "outputId": "5d8d5baf-aefc-4ee9-f25e-8cd9ac039158"
      },
      "execution_count": 14,
      "outputs": [
        {
          "output_type": "display_data",
          "data": {
            "text/plain": [
              "<Figure size 432x288 with 1 Axes>"
            ],
            "image/png": "[encoded data removed]"
          },
          "metadata": {}
        }
      ]
    },
    {
      "cell_type": "code",
      "source": [
        "# cleaning the data with drop null values\n",
        "data = df.na.drop(how='any')\n",
        "data.show(5)"
      ],
      "metadata": {
        "id": "_AsKgK9OIU63",
        "colab": {
          "base_uri": "https://localhost:8080/"
        },
        "outputId": "fb5a5ef4-176f-4151-f908-6a4912b1c455"
      },
      "execution_count": 15,
      "outputs": [
        {
          "output_type": "stream",
          "name": "stdout",
          "text": [
            "+--------------------+--------+\n",
            "|          clean_text|category|\n",
            "+--------------------+--------+\n",
            "|when modi promise...|      -1|\n",
            "|talk all the nons...|       0|\n",
            "|what did just say...|       1|\n",
            "|asking his suppor...|       1|\n",
            "|answer who among ...|       1|\n",
            "+--------------------+--------+\n",
            "only showing top 5 rows\n",
            "\n"
          ]
        }
      ]
    },
    {
      "cell_type": "code",
      "source": [
        "data.select('clean_text').show(10)\n"
      ],
      "metadata": {
        "id": "Z9c6yKIRDvjJ",
        "colab": {
          "base_uri": "https://localhost:8080/"
        },
        "outputId": "31bca3cd-1856-41fa-f626-dd4b272e6ff5"
      },
      "execution_count": 16,
      "outputs": [
        {
          "output_type": "stream",
          "name": "stdout",
          "text": [
            "+--------------------+\n",
            "|          clean_text|\n",
            "+--------------------+\n",
            "|when modi promise...|\n",
            "|talk all the nons...|\n",
            "|what did just say...|\n",
            "|asking his suppor...|\n",
            "|answer who among ...|\n",
            "|kiya tho refresh ...|\n",
            "|this comes from c...|\n",
            "|with upcoming ele...|\n",
            "|gandhi was gay do...|\n",
            "|things like demon...|\n",
            "+--------------------+\n",
            "only showing top 10 rows\n",
            "\n"
          ]
        }
      ]
    },
    {
      "cell_type": "code",
      "source": [
        "#show data without nan values\n",
        "pieplot(data, 'category')"
      ],
      "metadata": {
        "colab": {
          "base_uri": "https://localhost:8080/",
          "height": 248
        },
        "id": "R78W0ezghSPg",
        "outputId": "16bf8a00-8c97-489f-87d0-44a999829c8c"
      },
      "execution_count": 17,
      "outputs": [
        {
          "output_type": "display_data",
          "data": {
            "text/plain": [
              "<Figure size 432x288 with 1 Axes>"
            ],
            "image/png": "[encoded data removed]"
          },
          "metadata": {}
        }
      ]
    },
    {
      "cell_type": "code",
      "source": [
        "#count  the number of redundant category values\n",
        "from pyspark.sql.functions import col\n",
        "\n",
        "data.groupBy(\"category\").count().orderBy(col(\"count\").desc()).show()"
      ],
      "metadata": {
        "id": "v1trTakiJuvP",
        "colab": {
          "base_uri": "https://localhost:8080/"
        },
        "outputId": "71028137-102f-434d-de04-6346815b0ca7"
      },
      "execution_count": 18,
      "outputs": [
        {
          "output_type": "stream",
          "name": "stdout",
          "text": [
            "+--------+-----+\n",
            "|category|count|\n",
            "+--------+-----+\n",
            "|       1|86224|\n",
            "|       0|66446|\n",
            "|      -1|42908|\n",
            "+--------+-----+\n",
            "\n"
          ]
        }
      ]
    },
    {
      "cell_type": "markdown",
      "source": [
        "Model Pipeline\n",
        "\n",
        "Spark Machine Learning Pipelines API is similar to Scikit-Learn. Our pipeline includes three steps:\n",
        "\n",
        "regexTokenizer\n",
        "stopwordsRemover\n",
        "countVectors\n"
      ],
      "metadata": {
        "id": "GcCp2ftVKdZM"
      }
    },
    {
      "cell_type": "code",
      "source": [
        "#piplines steps\n",
        "from pyspark.ml.feature import RegexTokenizer, StopWordsRemover, CountVectorizer\n",
        "from pyspark.ml.classification import LogisticRegression\n",
        "\n",
        "# regular expression tokenizer\n",
        "regexTokenizer = RegexTokenizer(inputCol=\"clean_text\", outputCol=\"words\", pattern=\"\\\\W\")\n",
        "\n",
        "# stop words\n",
        "add_stopwords = [\"http\",\"https\",\"amp\",\"rt\",\"t\",\"c\",\"the\"] \n",
        "\n",
        "stopwordsRemover = StopWordsRemover(inputCol=\"words\", outputCol=\"filtered\").setStopWords(add_stopwords)\n",
        "\n",
        "# bag of words count\n",
        "countVectors = CountVectorizer(inputCol=\"filtered\", outputCol=\"features\", vocabSize=30000, minDF=5)"
      ],
      "metadata": {
        "id": "NouDLqFVKTIv"
      },
      "execution_count": 19,
      "outputs": []
    },
    {
      "cell_type": "markdown",
      "source": [
        "**preprocessing data using piplines steps**\n",
        "\n",
        "\n",
        "\n",
        "\n"
      ],
      "metadata": {
        "id": "lWLhnVCRLsqO"
      }
    },
    {
      "cell_type": "code",
      "source": [
        "from pyspark.ml import Pipeline\n",
        "from pyspark.ml.feature import OneHotEncoder, StringIndexer, VectorAssembler\n",
        "label_stringIdx = StringIndexer(inputCol = \"category\", outputCol = \"label\")\n",
        "\n",
        "pipeline = Pipeline(stages=[regexTokenizer, stopwordsRemover, countVectors, label_stringIdx])\n",
        "\n",
        "# Fit the pipeline to training documents.\n",
        "pipelineFit = pipeline.fit(data)\n",
        "dataset = pipelineFit.transform(data)\n",
        "dataset.show(5)"
      ],
      "metadata": {
        "id": "-hXDOQmLKTQn",
        "colab": {
          "base_uri": "https://localhost:8080/"
        },
        "outputId": "74c21111-5de3-493a-b249-ebd4a84cf0c0"
      },
      "execution_count": 20,
      "outputs": [
        {
          "output_type": "stream",
          "name": "stdout",
          "text": [
            "+--------------------+--------+--------------------+--------------------+--------------------+-----+\n",
            "|          clean_text|category|               words|            filtered|            features|label|\n",
            "+--------------------+--------+--------------------+--------------------+--------------------+-----+\n",
            "|when modi promise...|      -1|[when, modi, prom...|[when, modi, prom...|(24654,[0,1,7,30,...|  2.0|\n",
            "|talk all the nons...|       0|[talk, all, the, ...|[talk, all, nonse...|(24654,[0,1,2,8,1...|  1.0|\n",
            "|what did just say...|       1|[what, did, just,...|[what, did, just,...|(24654,[0,2,3,20,...|  0.0|\n",
            "|asking his suppor...|       1|[asking, his, sup...|[asking, his, sup...|(24654,[0,6,7,8,1...|  0.0|\n",
            "|answer who among ...|       1|[answer, who, amo...|[answer, who, amo...|(24654,[0,22,69,1...|  0.0|\n",
            "+--------------------+--------+--------------------+--------------------+--------------------+-----+\n",
            "only showing top 5 rows\n",
            "\n"
          ]
        }
      ]
    },
    {
      "cell_type": "markdown",
      "source": [
        "**Data partitioning**"
      ],
      "metadata": {
        "id": "ikjgP9RMM8j7"
      }
    },
    {
      "cell_type": "code",
      "source": [
        "# set seed for reproducibility\n",
        "(D_train, D_test) = dataset.randomSplit([0.7, 0.3], seed = 100)\n",
        "\n",
        "#count the samples of every test\n",
        "print(\"The Training Dataset Count is: \" + str(D_train.count()))\n",
        "print(\"The Test Dataset Count is: \" + str(D_test.count()))"
      ],
      "metadata": {
        "id": "2FBRCzylKTWf",
        "colab": {
          "base_uri": "https://localhost:8080/"
        },
        "outputId": "f5a56a5f-df9e-4663-f44a-3a35b168d64b"
      },
      "execution_count": 21,
      "outputs": [
        {
          "output_type": "stream",
          "name": "stdout",
          "text": [
            "The Training Dataset Count is: 136811\n",
            "The Test Dataset Count is: 58767\n"
          ]
        }
      ]
    },
    {
      "cell_type": "code",
      "source": [
        "D_train.describe().show()"
      ],
      "metadata": {
        "id": "5dXkcTuv_uJw",
        "colab": {
          "base_uri": "https://localhost:8080/"
        },
        "outputId": "be55c5bc-f374-46aa-d9e1-5d33b50a3b21"
      },
      "execution_count": 22,
      "outputs": [
        {
          "output_type": "stream",
          "name": "stdout",
          "text": [
            "+-------+-----------------------+------------------+------------------+\n",
            "|summary|             clean_text|          category|             label|\n",
            "+-------+-----------------------+------------------+------------------+\n",
            "|  count|                 136811|            136811|            136811|\n",
            "|   mean|                    NaN|0.2217877217475203|0.7782122782524797|\n",
            "| stddev|                    NaN|0.7823116472855645|0.7823116472855647|\n",
            "|    min|                       |                -1|               0.0|\n",
            "|    max|（ ͡° ͜ ͡° ━☆・。 ⊂ ...|                 1|               2.0|\n",
            "+-------+-----------------------+------------------+------------------+\n",
            "\n"
          ]
        }
      ]
    },
    {
      "cell_type": "code",
      "source": [
        "D_test.describe().show()"
      ],
      "metadata": {
        "id": "LJ180eRD_uVx",
        "colab": {
          "base_uri": "https://localhost:8080/"
        },
        "outputId": "4f4e2c8d-c67f-4e97-e74b-6c2f8dfe83fd"
      },
      "execution_count": 23,
      "outputs": [
        {
          "output_type": "stream",
          "name": "stdout",
          "text": [
            "+-------+--------------------+------------------+------------------+\n",
            "|summary|          clean_text|          category|             label|\n",
            "+-------+--------------------+------------------+------------------+\n",
            "|  count|               58767|             58767|             58767|\n",
            "|   mean|              6949.8|0.2207531437711641|0.7792468562288359|\n",
            "| stddev|  12787.608013229057|0.7806099070639413|0.7806099070639412|\n",
            "|    min|                    |                -1|               0.0|\n",
            "|    max|�modi mistake� ch...|                 1|               2.0|\n",
            "+-------+--------------------+------------------+------------------+\n",
            "\n"
          ]
        }
      ]
    },
    {
      "cell_type": "markdown",
      "source": [
        "**Model_phase**\n",
        "\n",
        "Logistic Regression using Count Vector Features\n",
        "\n"
      ],
      "metadata": {
        "id": "3u4FMilGN3n6"
      }
    },
    {
      "cell_type": "code",
      "source": [
        "log_reg = LogisticRegression(maxIter=20, regParam=0.3, elasticNetParam=0)\n",
        "lrModel = log_reg.fit(D_train)\n",
        "\n",
        "predictions = lrModel.transform(D_test)\n",
        "\n",
        "predictions.filter(predictions['prediction'] == 0).select(\"clean_text\",\"category\",\"probability\",\"label\",\"prediction\")\\\n",
        ".orderBy(\"probability\", ascending=False).show(n = 10, truncate = 30)"
      ],
      "metadata": {
        "id": "9FPf8mTUN22P",
        "colab": {
          "base_uri": "https://localhost:8080/"
        },
        "outputId": "946dacb8-5831-428b-e3b3-05bb82a4624c"
      },
      "execution_count": 24,
      "outputs": [
        {
          "output_type": "stream",
          "name": "stdout",
          "text": [
            "+------------------------------+--------+------------------------------+-----+----------+\n",
            "|                    clean_text|category|                   probability|label|prediction|\n",
            "+------------------------------+--------+------------------------------+-----+----------+\n",
            "| just shut and follow ikeda...|       1|[0.9999999997595463,1.56086...|  0.0|       0.0|\n",
            "|even the most important peo...|       1|[0.9999999979322731,8.98315...|  0.0|       0.0|\n",
            "|best news addressed these i...|       1|[0.999999978389196,3.043396...|  0.0|       0.0|\n",
            "|upa had one the highest gro...|       1|[0.9999999606091137,3.98797...|  0.0|       0.0|\n",
            "| 006 save mojo 4653 full ep...|       1|[0.9999999028508141,4.19822...|  0.0|       0.0|\n",
            "| ‘force snapdeal dump aamir...|      -1|[0.999999719540893,1.971494...|  2.0|       0.0|\n",
            "|not even half brilliant evi...|       1|[0.9999996827315326,5.01054...|  0.0|       0.0|\n",
            "| posting voter predictions ...|       1|[0.9999993942718627,1.17133...|  0.0|       0.0|\n",
            "| just good man wants good m...|       1|[0.9999993044943979,7.26680...|  0.0|       0.0|\n",
            "| modi’ government last four...|       1|[0.9999992227435839,1.31042...|  0.0|       0.0|\n",
            "+------------------------------+--------+------------------------------+-----+----------+\n",
            "only showing top 10 rows\n",
            "\n"
          ]
        }
      ]
    },
    {
      "cell_type": "markdown",
      "source": [
        "**plotting the accuracy of the model**"
      ],
      "metadata": {
        "id": "RCfs6KbTQQ2N"
      }
    },
    {
      "cell_type": "code",
      "source": [
        "from pyspark.ml.evaluation import MulticlassClassificationEvaluator\n",
        "evaluator = MulticlassClassificationEvaluator(predictionCol=\"prediction\")\n",
        "log_regAccuracy = evaluator.evaluate(predictions)\n",
        "print(log_regAccuracy)"
      ],
      "metadata": {
        "id": "DtvkioW6NhNn",
        "colab": {
          "base_uri": "https://localhost:8080/"
        },
        "outputId": "e1d8bf15-dfad-4809-d45c-cbc38bdc64d1"
      },
      "execution_count": 25,
      "outputs": [
        {
          "output_type": "stream",
          "name": "stdout",
          "text": [
            "0.7635389430397557\n"
          ]
        }
      ]
    },
    {
      "cell_type": "markdown",
      "source": [
        "summarize the performance of the LR model using precision, recall, F1-score. \n",
        "---\n",
        "\n",
        "---\n",
        "\n",
        "\n",
        "\n"
      ],
      "metadata": {
        "id": "FIGD1gAFRAgM"
      }
    },
    {
      "cell_type": "code",
      "source": [
        "lr_train_summary = lrModel.summary\n",
        "\n",
        "# for multiclass, we can inspect metrics on a per-label basis\n",
        "print(\"\\nFalse positive rate by label:\")\n",
        "for i, rate in enumerate(lr_train_summary.falsePositiveRateByLabel):\n",
        "    print(\"label %d: %s\" % (i, rate))\n",
        "\n",
        "print(\"\\nTrue positive rate by label:\")\n",
        "for i, rate in enumerate(lr_train_summary.truePositiveRateByLabel):\n",
        "    print(\"label %d: %s\" % (i, rate))\n",
        "\n",
        "print(\"\\nPrecision by label:\")\n",
        "for i, prec in enumerate(lr_train_summary.precisionByLabel):\n",
        "    print(\"label %d: %s\" % (i, prec))\n",
        "\n",
        "print(\"\\nRecall by label:\")\n",
        "for i, rec in enumerate(lr_train_summary.recallByLabel):\n",
        "    print(\"label %d: %s\" % (i, rec))\n",
        "\n",
        "print(\"\\nF-measure by label:\")\n",
        "for i, f in enumerate(lr_train_summary.fMeasureByLabel()):\n",
        "    print(\"label %d: %s\" % (i, f))\n",
        "\n",
        "accuracy = lr_train_summary.accuracy\n",
        "falsePositiveRate = lr_train_summary.weightedFalsePositiveRate\n",
        "truePositiveRate = lr_train_summary.weightedTruePositiveRate\n",
        "fMeasure = lr_train_summary.weightedFMeasure()\n",
        "precision = lr_train_summary.weightedPrecision\n",
        "recall = lr_train_summary.weightedRecall\n",
        "print(\"\\nAccuracy: %s\\n\\nFPR: %s\\n\\nTPR: %s\\n\\nF-measure: %s\\n\\nPrecision: %s\\n\\nRecall: %s\"\n",
        "      % (accuracy, falsePositiveRate, truePositiveRate, fMeasure, precision, recall))"
      ],
      "metadata": {
        "id": "MfO-7K20NhOu",
        "colab": {
          "base_uri": "https://localhost:8080/"
        },
        "outputId": "103230c5-791b-4768-94b7-fa0414d46a00"
      },
      "execution_count": 26,
      "outputs": [
        {
          "output_type": "stream",
          "name": "stdout",
          "text": [
            "\n",
            "False positive rate by label:\n",
            "label 0: 0.09672817694019108\n",
            "label 1: 0.12477475983594778\n",
            "label 2: 0.007297218813522805\n",
            "\n",
            "True positive rate by label:\n",
            "label 0: 0.9032631910067714\n",
            "label 1: 0.9424404556437694\n",
            "label 2: 0.6358373810632777\n",
            "\n",
            "Precision by label:\n",
            "label 0: 0.8806921822789714\n",
            "label 1: 0.7946735551472595\n",
            "label 2: 0.960836559247901\n",
            "\n",
            "Recall by label:\n",
            "label 0: 0.9032631910067714\n",
            "label 1: 0.9424404556437694\n",
            "label 2: 0.6358373810632777\n",
            "\n",
            "F-measure by label:\n",
            "label 0: 0.8918348998774008\n",
            "label 1: 0.8622721395931822\n",
            "label 2: 0.7652605657770926\n",
            "\n",
            "Accuracy: 0.8577819035019114\n",
            "\n",
            "FPR: 0.08658205909157304\n",
            "\n",
            "TPR: 0.8577819035019114\n",
            "\n",
            "F-measure: 0.8540099852208223\n",
            "\n",
            "Precision: 0.8691568837877899\n",
            "\n",
            "Recall: 0.8577819035019114\n"
          ]
        }
      ]
    },
    {
      "cell_type": "markdown",
      "source": [
        "**Logistic Regression using TF-IDF Features**\n",
        "#LR with normalized features\n",
        "\n",
        "term frequency-inverse document frequency, and instead of calculating the counts of each word in each document of the dataset (Bow), it calculates the normalized count where each word count is divided by the number of documents this word appears"
      ],
      "metadata": {
        "id": "OgNbpoyzTBJi"
      }
    },
    {
      "cell_type": "code",
      "source": [
        "from pyspark.ml.feature import HashingTF, IDF\n",
        "\n",
        "hashingTF = HashingTF(inputCol=\"filtered\", outputCol=\"rawFeatures\", numFeatures=30000)\n",
        "idf = IDF(inputCol=\"rawFeatures\", outputCol=\"features\", minDocFreq=5) #minDocFreq: remove sparse terms\n",
        "pipeline = Pipeline(stages=[regexTokenizer, stopwordsRemover, hashingTF, idf, label_stringIdx])\n",
        "\n",
        "pipelineFit = pipeline.fit(data)\n",
        "dataset = pipelineFit.transform(data)\n",
        "\n",
        "(D_train, D_test) = dataset.randomSplit([0.7, 0.3], seed = 100)\n",
        "log_reg = LogisticRegression(maxIter=20, regParam=0.3, elasticNetParam=0)\n",
        "lrModel = log_reg.fit(D_train)\n",
        "\n",
        "predictions = lrModel.transform(D_test)\n",
        "\n",
        "predictions.filter(predictions['prediction'] == 0) \\\n",
        "    .select(\"clean_text\",\"category\",\"probability\",\"label\",\"prediction\") \\\n",
        "    .orderBy(\"probability\", ascending=False) \\\n",
        "    .show(n = 10, truncate = 30)"
      ],
      "metadata": {
        "id": "6SZxtB2UNhSn",
        "colab": {
          "base_uri": "https://localhost:8080/"
        },
        "outputId": "847260f2-c692-4f42-a4c4-8101bc80c47e"
      },
      "execution_count": 27,
      "outputs": [
        {
          "output_type": "stream",
          "name": "stdout",
          "text": [
            "+------------------------------+--------+------------------------------+-----+----------+\n",
            "|                    clean_text|category|                   probability|label|prediction|\n",
            "+------------------------------+--------+------------------------------+-----+----------+\n",
            "| just shut and follow ikeda...|       1|[0.9999999999956422,6.79768...|  0.0|       0.0|\n",
            "|even the most important peo...|       1|[0.9999999966676953,1.28149...|  0.0|       0.0|\n",
            "|upa had one the highest gro...|       1|[0.9999999964287811,1.76005...|  0.0|       0.0|\n",
            "|best news addressed these i...|       1|[0.9999999870287959,2.86825...|  0.0|       0.0|\n",
            "| modi’ government last four...|       1|[0.9999999462160947,3.05575...|  0.0|       0.0|\n",
            "|not even half brilliant evi...|       1|[0.9999999013842449,1.95817...|  0.0|       0.0|\n",
            "| 006 save mojo 4653 full ep...|       1|[0.9999998747268489,4.59142...|  0.0|       0.0|\n",
            "|thanks for doing this ama t...|       1|[0.9999998420152606,3.15519...|  0.0|       0.0|\n",
            "| very interested history an...|       1|[0.9999995703091836,1.31310...|  0.0|       0.0|\n",
            "|translations armor names hu...|      -1|[0.9999995343035039,4.64687...|  2.0|       0.0|\n",
            "+------------------------------+--------+------------------------------+-----+----------+\n",
            "only showing top 10 rows\n",
            "\n"
          ]
        }
      ]
    },
    {
      "cell_type": "code",
      "source": [
        "evaluator = MulticlassClassificationEvaluator(predictionCol='prediction', metricName='f1')\n",
        "my_mc_lr=evaluator.evaluate(predictions)\n",
        "my_mc_lr"
      ],
      "metadata": {
        "id": "eHfcEYYlpZ5F",
        "colab": {
          "base_uri": "https://localhost:8080/"
        },
        "outputId": "4758a63a-4519-47d8-ef18-f2ad66172a4d"
      },
      "execution_count": 28,
      "outputs": [
        {
          "output_type": "execute_result",
          "data": {
            "text/plain": [
              "0.7379194858251854"
            ]
          },
          "metadata": {},
          "execution_count": 28
        }
      ]
    },
    {
      "cell_type": "code",
      "source": [
        "evaluator = MulticlassClassificationEvaluator(predictionCol='prediction', metricName='weightedPrecision')\n",
        "my_mc_lr1 = evaluator.evaluate(predictions)\n",
        "my_mc_lr1"
      ],
      "metadata": {
        "id": "rNehGCmEVfyS",
        "colab": {
          "base_uri": "https://localhost:8080/"
        },
        "outputId": "3930057e-f8b0-4058-8972-bb728cdfb4eb"
      },
      "execution_count": 29,
      "outputs": [
        {
          "output_type": "execute_result",
          "data": {
            "text/plain": [
              "0.7563232717741102"
            ]
          },
          "metadata": {},
          "execution_count": 29
        }
      ]
    },
    {
      "cell_type": "code",
      "source": [
        "evaluator = MulticlassClassificationEvaluator(predictionCol='prediction', metricName='weightedRecall')\n",
        "my_mc_lr2 = evaluator.evaluate(predictions)\n",
        "my_mc_lr2"
      ],
      "metadata": {
        "id": "0sZMGSoNVqEB",
        "colab": {
          "base_uri": "https://localhost:8080/"
        },
        "outputId": "e7006426-0e41-4510-c592-2f51ce9ddc85"
      },
      "execution_count": 30,
      "outputs": [
        {
          "output_type": "execute_result",
          "data": {
            "text/plain": [
              "0.748464274167475"
            ]
          },
          "metadata": {},
          "execution_count": 30
        }
      ]
    },
    {
      "cell_type": "code",
      "source": [
        "evaluator = MulticlassClassificationEvaluator(predictionCol='prediction', metricName='weightedFalsePositiveRate')\n",
        "my_mc_lr3 = evaluator.evaluate(predictions)\n",
        "my_mc_lr3\n"
      ],
      "metadata": {
        "colab": {
          "base_uri": "https://localhost:8080/"
        },
        "id": "zaX_4BdPpeuH",
        "outputId": "9743e8d1-84db-49e9-ee9a-3f395db9766f"
      },
      "execution_count": 31,
      "outputs": [
        {
          "output_type": "execute_result",
          "data": {
            "text/plain": [
              "0.15444347309509188"
            ]
          },
          "metadata": {},
          "execution_count": 31
        }
      ]
    },
    {
      "cell_type": "code",
      "source": [
        "evaluator = MulticlassClassificationEvaluator(predictionCol=\"prediction\", metricName='accuracy')\n",
        "my_mc_lr4 = evaluator.evaluate(predictions)\n",
        "my_mc_lr4"
      ],
      "metadata": {
        "colab": {
          "base_uri": "https://localhost:8080/"
        },
        "id": "H7b4ZmugsKlW",
        "outputId": "3cabd579-f236-4e2f-839b-9be00f447509"
      },
      "execution_count": 32,
      "outputs": [
        {
          "output_type": "execute_result",
          "data": {
            "text/plain": [
              "0.748464274167475"
            ]
          },
          "metadata": {},
          "execution_count": 32
        }
      ]
    },
    {
      "cell_type": "markdown",
      "source": [
        "**Cross-Validation**\n",
        "\n",
        "\n",
        "tune our hyper parameters,  only tune the count vectors Logistic Regression"
      ],
      "metadata": {
        "id": "9fehZU1iVm-d"
      }
    },
    {
      "cell_type": "code",
      "source": [
        "pipeline = Pipeline(stages=[regexTokenizer, stopwordsRemover, countVectors, label_stringIdx])\n",
        "\n",
        "pipelineFit = pipeline.fit(data)\n",
        "dataset = pipelineFit.transform(data)\n",
        "(D_train, D_test) = dataset.randomSplit([0.7, 0.3], seed = 100)\n",
        "\n",
        "log_reg = LogisticRegression(maxIter=20, regParam=0.3, elasticNetParam=0)"
      ],
      "metadata": {
        "id": "yZFgcPkIUxSK"
      },
      "execution_count": 34,
      "outputs": []
    },
    {
      "cell_type": "code",
      "source": [
        "from pyspark.ml.tuning import ParamGridBuilder, CrossValidator\n",
        "\n",
        "# Create ParamGrid for Cross Validation\n",
        "paramGrid = (ParamGridBuilder()\n",
        "             .addGrid(log_reg.regParam, [0.1, 0.3, 0.5]) # regularization parameter\n",
        "             .addGrid(log_reg.elasticNetParam, [0.0, 0.1, 0.2]) # Elastic Net Parameter (Ridge = 0)\n",
        "             .build())\n",
        "\n",
        "# Create 5-fold CrossValidator\n",
        "cv = CrossValidator(estimator=log_reg, \\\n",
        "                    estimatorParamMaps=paramGrid, \\\n",
        "                    evaluator=evaluator, \\\n",
        "                    numFolds=5)\n",
        "\n",
        "cvModel = cv.fit(D_train)\n",
        "\n",
        "predictions = cvModel.transform(D_test)\n",
        "# Evaluate best model\n",
        "evaluator = MulticlassClassificationEvaluator(predictionCol=\"prediction\")\n",
        "evaluator.evaluate(predictions)"
      ],
      "metadata": {
        "id": "ECd7LL9aUxVC",
        "colab": {
          "base_uri": "https://localhost:8080/"
        },
        "outputId": "95b1993f-01cd-433e-f24b-10aad653fefd"
      },
      "execution_count": 35,
      "outputs": [
        {
          "output_type": "execute_result",
          "data": {
            "text/plain": [
              "0.8216800367152399"
            ]
          },
          "metadata": {},
          "execution_count": 35
        }
      ]
    },
    {
      "cell_type": "markdown",
      "source": [
        "** apply Naive Bayes  model in our data** "
      ],
      "metadata": {
        "id": "toJHsv8IZEmW"
      }
    },
    {
      "cell_type": "code",
      "source": [
        "from pyspark.ml.classification import NaiveBayes\n",
        "nb = NaiveBayes(smoothing=1)\n",
        "nbModel = nb.fit(D_train)\n",
        "predictions = nbModel.transform(D_test)\n",
        "predictions.filter(predictions['prediction'] == 0) \\\n",
        "    .select(\"clean_text\",\"category\",\"probability\",\"label\",\"prediction\") \\\n",
        "    .orderBy(\"probability\", ascending=False) \\\n",
        "    .show(n = 10, truncate = 30)"
      ],
      "metadata": {
        "id": "CyJ5H_10UxZW",
        "colab": {
          "base_uri": "https://localhost:8080/"
        },
        "outputId": "dc403f60-f35b-4723-83ed-e5ad0a18b383"
      },
      "execution_count": 85,
      "outputs": [
        {
          "output_type": "stream",
          "name": "stdout",
          "text": [
            "+------------------------------+--------+------------------------------+-----+----------+\n",
            "|                    clean_text|category|                   probability|label|prediction|\n",
            "+------------------------------+--------+------------------------------+-----+----------+\n",
            "|respected sir sar and madam...|       1|[1.0,3.945173214204542E-18,...|  0.0|       0.0|\n",
            "|respected sir sar and madam...|       1|[1.0,1.3028075269905147E-18...|  0.0|       0.0|\n",
            "|respected sir sar and madam...|       1|[1.0,3.398139781643675E-21,...|  0.0|       0.0|\n",
            "|respected sir sar and madam...|       1|[1.0,1.0489765997755373E-21...|  0.0|       0.0|\n",
            "| things opinion most likely...|       1|[1.0,6.567869835073721E-30,...|  0.0|       0.0|\n",
            "|the team has list the free ...|       1|[1.0,3.464936394451876E-31,...|  0.0|       0.0|\n",
            "| list the free encyclopedia...|       1|[1.0,1.9059931751739877E-33...|  0.0|       0.0|\n",
            "|donating blood the free enc...|       1|[1.0,1.575793672102376E-34,...|  0.0|       0.0|\n",
            "|also why india the team spo...|       1|[1.0,9.412452337538822E-36,...|  0.0|       0.0|\n",
            "|very few more than six year...|       1|[1.0,6.940360905786251E-36,...|  0.0|       0.0|\n",
            "+------------------------------+--------+------------------------------+-----+----------+\n",
            "only showing top 10 rows\n",
            "\n"
          ]
        }
      ]
    },
    {
      "cell_type": "code",
      "source": [
        "#evaluate the NB model\n",
        "evaluator = MulticlassClassificationEvaluator(predictionCol=\"prediction\",metricName='accuracy')\n",
        "nbAccuracy = evaluator.evaluate(predictions)\n",
        "nbAccuracy"
      ],
      "metadata": {
        "id": "4kbtSuP5Uxap",
        "colab": {
          "base_uri": "https://localhost:8080/"
        },
        "outputId": "e9808a8b-4099-43f7-e4b4-c22c5c7aed57"
      },
      "execution_count": 86,
      "outputs": [
        {
          "output_type": "execute_result",
          "data": {
            "text/plain": [
              "0.7648510218319805"
            ]
          },
          "metadata": {},
          "execution_count": 86
        }
      ]
    },
    {
      "cell_type": "code",
      "source": [
        "evaluator = MulticlassClassificationEvaluator(predictionCol='prediction', metricName='f1')\n",
        "my_mc_nb=evaluator.evaluate(predictions)\n",
        "my_mc_nb"
      ],
      "metadata": {
        "id": "MJmiErD3om37",
        "colab": {
          "base_uri": "https://localhost:8080/"
        },
        "outputId": "d82f8fa6-7987-48eb-bfb8-0959b38165e4"
      },
      "execution_count": 87,
      "outputs": [
        {
          "output_type": "execute_result",
          "data": {
            "text/plain": [
              "0.7639990400037707"
            ]
          },
          "metadata": {},
          "execution_count": 87
        }
      ]
    },
    {
      "cell_type": "code",
      "source": [
        "evaluator = MulticlassClassificationEvaluator(predictionCol='prediction', metricName='weightedPrecision')\n",
        "my_mc_nb1 = evaluator.evaluate(predictions)\n",
        "my_mc_nb1"
      ],
      "metadata": {
        "id": "S09Qs-AARJng",
        "colab": {
          "base_uri": "https://localhost:8080/"
        },
        "outputId": "acc55899-3b6b-49f9-b9a0-7df1e0a48abe"
      },
      "execution_count": 88,
      "outputs": [
        {
          "output_type": "execute_result",
          "data": {
            "text/plain": [
              "0.7679590546718735"
            ]
          },
          "metadata": {},
          "execution_count": 88
        }
      ]
    },
    {
      "cell_type": "code",
      "source": [
        "evaluator = MulticlassClassificationEvaluator(predictionCol='prediction', metricName='weightedRecall')\n",
        "my_mc_nb2 = evaluator.evaluate(predictions)\n",
        "my_mc_nb2"
      ],
      "metadata": {
        "id": "n954HHJm5Ygp",
        "colab": {
          "base_uri": "https://localhost:8080/"
        },
        "outputId": "3cccc543-ef50-4d71-e478-08dfc751e7e9"
      },
      "execution_count": 89,
      "outputs": [
        {
          "output_type": "execute_result",
          "data": {
            "text/plain": [
              "0.7648510218319806"
            ]
          },
          "metadata": {},
          "execution_count": 89
        }
      ]
    },
    {
      "cell_type": "code",
      "source": [
        "evaluator = MulticlassClassificationEvaluator(predictionCol='prediction', metricName='weightedFalsePositiveRate')\n",
        "my_mc_nb3 = evaluator.evaluate(predictions)\n",
        "my_mc_nb3"
      ],
      "metadata": {
        "colab": {
          "base_uri": "https://localhost:8080/"
        },
        "id": "TSpf12l3uKBW",
        "outputId": "551d809f-4f1d-4189-f0de-2c3e384784ad"
      },
      "execution_count": 90,
      "outputs": [
        {
          "output_type": "execute_result",
          "data": {
            "text/plain": [
              "0.14022840819259993"
            ]
          },
          "metadata": {},
          "execution_count": 90
        }
      ]
    },
    {
      "cell_type": "markdown",
      "source": [
        "\n",
        "**DecisionTreeClassifier**"
      ],
      "metadata": {
        "id": "6EZWufhka1IE"
      }
    },
    {
      "cell_type": "code",
      "source": [
        "from pyspark.ml.classification import DecisionTreeClassifier\n",
        "d_tree = DecisionTreeClassifier(featuresCol = 'features', labelCol = 'label', maxDepth = 3)\n",
        "d_tree_Model = d_tree.fit(D_train)\n",
        "predictions = d_tree_Model.transform(D_test)\n",
        "predictions.filter(predictions['prediction'] == 0) \\\n",
        "    .select(\"clean_text\",\"category\",\"probability\",\"label\",\"prediction\") \\\n",
        "    .orderBy(\"probability\", ascending=False) \\\n",
        "    .show(n = 10, truncate = 30)"
      ],
      "metadata": {
        "id": "gVuN33SoUxeg",
        "colab": {
          "base_uri": "https://localhost:8080/"
        },
        "outputId": "20e19d66-50c4-45d6-c57d-78a1b12a6666"
      },
      "execution_count": 46,
      "outputs": [
        {
          "output_type": "stream",
          "name": "stdout",
          "text": [
            "+------------------------------+--------+------------------------------+-----+----------+\n",
            "|                    clean_text|category|                   probability|label|prediction|\n",
            "+------------------------------+--------+------------------------------+-----+----------+\n",
            "| imran khan and modi who be...|       1|[0.9018935683969964,0.01762...|  0.0|       0.0|\n",
            "|aap too greedy they are ask...|       1|[0.9018935683969964,0.01762...|  0.0|       0.0|\n",
            "| modi jeeup will vote more ...|       1|[0.9018935683969964,0.01762...|  0.0|       0.0|\n",
            "|100000 lakh vote haar wala ...|       1|[0.9018935683969964,0.01762...|  0.0|       0.0|\n",
            "|2014 almost all phesphologi...|       1|[0.9018935683969964,0.01762...|  0.0|       0.0|\n",
            "|2014 nda vote share was 385...|       1|[0.9018935683969964,0.01762...|  0.0|       0.0|\n",
            "|2014 was modi wave and even...|      -1|[0.9018935683969964,0.01762...|  2.0|       0.0|\n",
            "|2019 bjp will get more seat...|       1|[0.9018935683969964,0.01762...|  0.0|       0.0|\n",
            "|2019 more about hindus and ...|       0|[0.9018935683969964,0.01762...|  1.0|       0.0|\n",
            "|31st march which slogans wi...|       1|[0.9018935683969964,0.01762...|  0.0|       0.0|\n",
            "+------------------------------+--------+------------------------------+-----+----------+\n",
            "only showing top 10 rows\n",
            "\n"
          ]
        }
      ]
    },
    {
      "cell_type": "code",
      "source": [
        "evaluator = MulticlassClassificationEvaluator(predictionCol=\"prediction\",metricName='accuracy')\n",
        "d_tAccuracy = evaluator.evaluate(predictions)\n",
        "d_tAccuracy"
      ],
      "metadata": {
        "id": "Cnf7OxD7SlAR",
        "colab": {
          "base_uri": "https://localhost:8080/"
        },
        "outputId": "12f0a840-78ca-4bda-c8c4-60d4d8594bcc"
      },
      "execution_count": 47,
      "outputs": [
        {
          "output_type": "execute_result",
          "data": {
            "text/plain": [
              "0.4394643252165331"
            ]
          },
          "metadata": {},
          "execution_count": 47
        }
      ]
    },
    {
      "cell_type": "code",
      "source": [
        "evaluator = MulticlassClassificationEvaluator(predictionCol='prediction', metricName='f1')\n",
        "my_mc_dt = evaluator.evaluate(predictions)\n",
        "my_mc_dt"
      ],
      "metadata": {
        "id": "8JguMav-o3lC",
        "colab": {
          "base_uri": "https://localhost:8080/"
        },
        "outputId": "12bb1eba-ef77-4baf-c820-ffc5a5944c96"
      },
      "execution_count": 48,
      "outputs": [
        {
          "output_type": "execute_result",
          "data": {
            "text/plain": [
              "0.2693168540063872"
            ]
          },
          "metadata": {},
          "execution_count": 48
        }
      ]
    },
    {
      "cell_type": "code",
      "source": [
        "evaluator = MulticlassClassificationEvaluator(predictionCol='prediction', metricName='weightedPrecision')\n",
        "my_mc_dt1 = evaluator.evaluate(predictions)\n",
        "my_mc_dt1"
      ],
      "metadata": {
        "id": "R93tMXb5S940",
        "colab": {
          "base_uri": "https://localhost:8080/"
        },
        "outputId": "31c8cce9-db14-4669-9f92-ccaced843bde"
      },
      "execution_count": 49,
      "outputs": [
        {
          "output_type": "execute_result",
          "data": {
            "text/plain": [
              "0.30744184586069373"
            ]
          },
          "metadata": {},
          "execution_count": 49
        }
      ]
    },
    {
      "cell_type": "code",
      "source": [
        "evaluator = MulticlassClassificationEvaluator(predictionCol='prediction', metricName='weightedRecall')\n",
        "my_mc_dt2 = evaluator.evaluate(predictions)\n",
        "my_mc_dt2"
      ],
      "metadata": {
        "id": "Ei7A7OsSTCsb",
        "colab": {
          "base_uri": "https://localhost:8080/"
        },
        "outputId": "4ec31522-d4f1-44df-9e00-af7c581608e2"
      },
      "execution_count": 50,
      "outputs": [
        {
          "output_type": "execute_result",
          "data": {
            "text/plain": [
              "0.43946432521653306"
            ]
          },
          "metadata": {},
          "execution_count": 50
        }
      ]
    },
    {
      "cell_type": "code",
      "source": [
        "evaluator = MulticlassClassificationEvaluator(predictionCol='prediction', metricName='weightedFalsePositiveRate')\n",
        "my_mc_dt3 = evaluator.evaluate(predictions)\n",
        "my_mc_dt3"
      ],
      "metadata": {
        "colab": {
          "base_uri": "https://localhost:8080/"
        },
        "id": "r3rWCd18u5aQ",
        "outputId": "16bf00e2-5c80-4228-b60a-ffe3c2f75616"
      },
      "execution_count": 51,
      "outputs": [
        {
          "output_type": "execute_result",
          "data": {
            "text/plain": [
              "0.439107402036214"
            ]
          },
          "metadata": {},
          "execution_count": 51
        }
      ]
    },
    {
      "cell_type": "markdown",
      "source": [
        "**Random Forest**\n"
      ],
      "metadata": {
        "id": "uInE7xRub33w"
      }
    },
    {
      "cell_type": "code",
      "source": [
        "from pyspark.ml.classification import RandomForestClassifier\n",
        "r_forest = RandomForestClassifier(labelCol=\"label\", \\\n",
        "                            featuresCol=\"features\", \\\n",
        "                            numTrees = 100, \\\n",
        "                            maxDepth = 4, \\\n",
        "                            maxBins = 32)\n",
        "# Train model with Training Data\n",
        "rfModel = r_forest.fit(D_train)\n",
        "predictions = rfModel.transform(D_test)\n",
        "predictions.filter(predictions['prediction'] == 0) \\\n",
        "    .select(\"clean_text\",\"category\",\"probability\",\"label\",\"prediction\") \\\n",
        "    .orderBy(\"probability\", ascending=False) \\\n",
        "    .show(n = 10, truncate = 30)"
      ],
      "metadata": {
        "id": "KqfmK6e4b647",
        "colab": {
          "base_uri": "https://localhost:8080/"
        },
        "outputId": "518439a2-7c24-499c-db0f-a110be6d8109"
      },
      "execution_count": 53,
      "outputs": [
        {
          "output_type": "stream",
          "name": "stdout",
          "text": [
            "+------------------------------+--------+------------------------------+-----+----------+\n",
            "|                    clean_text|category|                   probability|label|prediction|\n",
            "+------------------------------+--------+------------------------------+-----+----------+\n",
            "|brilliant point point break...|       1|[0.6020209468883544,0.16912...|  0.0|       0.0|\n",
            "| just shut and follow ikeda...|       1|[0.5986233393886736,0.17478...|  0.0|       0.0|\n",
            "|you are simpleton and have ...|       1|[0.5933716610988667,0.15729...|  0.0|       0.0|\n",
            "| saying pretty much what ev...|       1|[0.5912298666310746,0.19999...|  0.0|       0.0|\n",
            "|upa had one the highest gro...|       1|[0.5796456421772729,0.19403...|  0.0|       0.0|\n",
            "|hello have few questions re...|       1|[0.5751686602535068,0.18938...|  0.0|       0.0|\n",
            "|they are the textbook defin...|       1|[0.5590717004768829,0.19560...|  0.0|       0.0|\n",
            "|not even half brilliant evi...|       1|[0.5588393254609862,0.20926...|  0.0|       0.0|\n",
            "| think there lot truth what...|       1|[0.5564629161014443,0.20887...|  0.0|       0.0|\n",
            "|the same emotion increasing...|       1|[0.5563403334093903,0.23865...|  0.0|       0.0|\n",
            "+------------------------------+--------+------------------------------+-----+----------+\n",
            "only showing top 10 rows\n",
            "\n"
          ]
        }
      ]
    },
    {
      "cell_type": "code",
      "source": [
        "evaluator = MulticlassClassificationEvaluator(predictionCol=\"prediction\",metricName='accuracy')\n",
        "rfAccuracy = evaluator.evaluate(predictions)\n",
        "rfAccuracy"
      ],
      "metadata": {
        "id": "lRRgfSZRTRsO",
        "colab": {
          "base_uri": "https://localhost:8080/"
        },
        "outputId": "2ad60b87-85ae-43d6-b0e2-097d12ca8c43"
      },
      "execution_count": 54,
      "outputs": [
        {
          "output_type": "execute_result",
          "data": {
            "text/plain": [
              "0.4394132761583882"
            ]
          },
          "metadata": {},
          "execution_count": 54
        }
      ]
    },
    {
      "cell_type": "code",
      "source": [
        "evaluator = MulticlassClassificationEvaluator(predictionCol='prediction', metricName='f1')\n",
        "my_mc_rf = evaluator.evaluate(predictions)\n",
        "my_mc_rf"
      ],
      "metadata": {
        "id": "Z0NHWM3-pIfK",
        "colab": {
          "base_uri": "https://localhost:8080/"
        },
        "outputId": "27ab5c33-4e26-4720-9bec-298f5aa9dbcc"
      },
      "execution_count": 55,
      "outputs": [
        {
          "output_type": "execute_result",
          "data": {
            "text/plain": [
              "0.2682815706404554"
            ]
          },
          "metadata": {},
          "execution_count": 55
        }
      ]
    },
    {
      "cell_type": "code",
      "source": [
        "evaluator = MulticlassClassificationEvaluator(predictionCol='prediction', metricName='weightedPrecision')\n",
        "my_mc_rf1 = evaluator.evaluate(predictions)\n",
        "my_mc_rf1"
      ],
      "metadata": {
        "id": "0lWVzd1VTo6K",
        "colab": {
          "base_uri": "https://localhost:8080/"
        },
        "outputId": "a38573b2-6841-4d75-f21f-26d5c61c1ca2"
      },
      "execution_count": 56,
      "outputs": [
        {
          "output_type": "execute_result",
          "data": {
            "text/plain": [
              "0.19308402726424795"
            ]
          },
          "metadata": {},
          "execution_count": 56
        }
      ]
    },
    {
      "cell_type": "code",
      "source": [
        "evaluator = MulticlassClassificationEvaluator(predictionCol='prediction', metricName='weightedRecall')\n",
        "my_mc_rf2 = evaluator.evaluate(predictions)\n",
        "my_mc_rf2"
      ],
      "metadata": {
        "id": "UOJxdur9TtH4",
        "colab": {
          "base_uri": "https://localhost:8080/"
        },
        "outputId": "5877d1f1-7f91-4c38-f22c-c54ed721e477"
      },
      "execution_count": 57,
      "outputs": [
        {
          "output_type": "execute_result",
          "data": {
            "text/plain": [
              "0.4394132761583882"
            ]
          },
          "metadata": {},
          "execution_count": 57
        }
      ]
    },
    {
      "cell_type": "code",
      "source": [
        "evaluator = MulticlassClassificationEvaluator(predictionCol='prediction', metricName='weightedFalsePositiveRate')\n",
        "my_mc_rf3 = evaluator.evaluate(predictions)\n",
        "my_mc_rf3"
      ],
      "metadata": {
        "colab": {
          "base_uri": "https://localhost:8080/"
        },
        "id": "UOiAYs_kvRPd",
        "outputId": "9a58d036-aca5-418d-f73a-469791763687"
      },
      "execution_count": 58,
      "outputs": [
        {
          "output_type": "execute_result",
          "data": {
            "text/plain": [
              "0.4394132761583882"
            ]
          },
          "metadata": {},
          "execution_count": 58
        }
      ]
    },
    {
      "cell_type": "markdown",
      "source": [
        "**OnevsRest classifer**\n"
      ],
      "metadata": {
        "id": "MO1FZLDxceIq"
      }
    },
    {
      "cell_type": "code",
      "source": [
        "from pyspark.ml.classification import LogisticRegression, OneVsRest\n",
        "\n",
        "log_reg = LogisticRegression(maxIter=20, regParam=0.3, elasticNetParam=0)\n",
        "\n",
        "O_vs_R = OneVsRest(classifier=log_reg)\n",
        "\n",
        "ovrModel = O_vs_R.fit(D_train)\n",
        "\n",
        "# score the model on test data.\n",
        "predictions = ovrModel.transform(D_test)\n",
        "\n",
        "predictions.filter(predictions['prediction'] == 0) \\\n",
        "    .select(\"clean_text\",\"category\",\"label\",\"prediction\") \\\n",
        "    .show(n = 10, truncate = 30)"
      ],
      "metadata": {
        "id": "3sCnII8jcBhn",
        "colab": {
          "base_uri": "https://localhost:8080/"
        },
        "outputId": "25482892-7870-45d5-81e4-6fbe61f15589"
      },
      "execution_count": 93,
      "outputs": [
        {
          "output_type": "stream",
          "name": "stdout",
          "text": [
            "+------------------------------+--------+-----+----------+\n",
            "|                    clean_text|category|label|prediction|\n",
            "+------------------------------+--------+-----+----------+\n",
            "| abuser modi bhakth just as...|       0|  1.0|       0.0|\n",
            "| after grand success coffee...|       1|  0.0|       0.0|\n",
            "| also fuel for mahagathband...|       1|  0.0|       0.0|\n",
            "| breaking india shoots down...|       1|  0.0|       0.0|\n",
            "| cant hate modi without lov...|      -1|  2.0|       0.0|\n",
            "| congratulations the entire...|       1|  0.0|       0.0|\n",
            "| cool down chowkidar relax ...|       1|  0.0|       0.0|\n",
            "| desperation win shows surv...|       1|  0.0|       0.0|\n",
            "| dont believe modi will spa...|       1|  0.0|       0.0|\n",
            "| gadkari only has hold vidh...|       1|  0.0|       0.0|\n",
            "+------------------------------+--------+-----+----------+\n",
            "only showing top 10 rows\n",
            "\n"
          ]
        }
      ]
    },
    {
      "cell_type": "code",
      "source": [
        "evaluator = MulticlassClassificationEvaluator(predictionCol=\"prediction\",metricName='accuracy')\n",
        "O_vs_RAccuracy = evaluator.evaluate(predictions)\n",
        "O_vs_RAccuracy "
      ],
      "metadata": {
        "id": "vLGLJ0a7UhDe",
        "colab": {
          "base_uri": "https://localhost:8080/"
        },
        "outputId": "7312f382-b9db-465c-ad4b-0331a46a4103"
      },
      "execution_count": 94,
      "outputs": [
        {
          "output_type": "execute_result",
          "data": {
            "text/plain": [
              "0.7519526264740416"
            ]
          },
          "metadata": {},
          "execution_count": 94
        }
      ]
    },
    {
      "cell_type": "code",
      "source": [
        "evaluator = MulticlassClassificationEvaluator(predictionCol='prediction', metricName='f1')\n",
        "my_mc_or = evaluator.evaluate(predictions)\n",
        "my_mc_or"
      ],
      "metadata": {
        "id": "GIiNdFkYpPQf",
        "colab": {
          "base_uri": "https://localhost:8080/"
        },
        "outputId": "febd1828-6907-41af-fe43-79ae812f066c"
      },
      "execution_count": 95,
      "outputs": [
        {
          "output_type": "execute_result",
          "data": {
            "text/plain": [
              "0.7385231768767154"
            ]
          },
          "metadata": {},
          "execution_count": 95
        }
      ]
    },
    {
      "cell_type": "code",
      "source": [
        "evaluator = MulticlassClassificationEvaluator(predictionCol='prediction', metricName='weightedPrecision')\n",
        "my_mc_or1 = evaluator.evaluate(predictions)\n",
        "my_mc_or1"
      ],
      "metadata": {
        "id": "K37N1Sg3UyWz",
        "colab": {
          "base_uri": "https://localhost:8080/"
        },
        "outputId": "de7759b9-9dbc-477b-f481-270f7d745bf7"
      },
      "execution_count": 96,
      "outputs": [
        {
          "output_type": "execute_result",
          "data": {
            "text/plain": [
              "0.7669627688440128"
            ]
          },
          "metadata": {},
          "execution_count": 96
        }
      ]
    },
    {
      "cell_type": "code",
      "source": [
        "evaluator = MulticlassClassificationEvaluator(predictionCol='prediction', metricName='weightedRecall')\n",
        "my_mc_or2 = evaluator.evaluate(predictions)\n",
        "my_mc_or2"
      ],
      "metadata": {
        "id": "KWEk9DW4U5eJ",
        "colab": {
          "base_uri": "https://localhost:8080/"
        },
        "outputId": "f3095fb0-88fe-45e6-813b-6752a77c4329"
      },
      "execution_count": 97,
      "outputs": [
        {
          "output_type": "execute_result",
          "data": {
            "text/plain": [
              "0.7519526264740416"
            ]
          },
          "metadata": {},
          "execution_count": 97
        }
      ]
    },
    {
      "cell_type": "code",
      "source": [
        "evaluator = MulticlassClassificationEvaluator(predictionCol='prediction', metricName='weightedFalsePositiveRate')\n",
        "my_mc_or3 = evaluator.evaluate(predictions)\n",
        "my_mc_or3"
      ],
      "metadata": {
        "colab": {
          "base_uri": "https://localhost:8080/"
        },
        "id": "W7bCA_GTzrVZ",
        "outputId": "66abf7f9-8441-4f21-f50d-a2f336da707d"
      },
      "execution_count": 98,
      "outputs": [
        {
          "output_type": "execute_result",
          "data": {
            "text/plain": [
              "0.1564994875990179"
            ]
          },
          "metadata": {},
          "execution_count": 98
        }
      ]
    },
    {
      "cell_type": "markdown",
      "source": [
        "**Visualization**"
      ],
      "metadata": {
        "id": "hWJ2B_B9dG_f"
      }
    },
    {
      "cell_type": "code",
      "source": [
        "model = ['Logistic regression', 'Naive Bayes', 'Descion Tree', 'Random Forest', 'OneVsRest']\n",
        "accuracy = [log_regAccuracy,nbAccuracy,d_tAccuracy,rfAccuracy,O_vs_RAccuracy]\n",
        "f1_all = [my_mc_lr,my_mc_nb,my_mc_dt,my_mc_rf,my_mc_or]\n",
        "weightedPrecision_all = [my_mc_lr1,my_mc_nb1,my_mc_dt1,my_mc_rf1,my_mc_or1]\n",
        "weightedRecall_all = [my_mc_lr2,my_mc_nb2,my_mc_dt2,my_mc_rf2,my_mc_or2]\n",
        "weightedFalsePositiveRate_all = [my_mc_lr3,my_mc_nb3,my_mc_dt3,my_mc_rf3,my_mc_or3]\n"
      ],
      "metadata": {
        "id": "62v5cvOOc9CR"
      },
      "execution_count": 67,
      "outputs": []
    },
    {
      "cell_type": "code",
      "source": [
        "df = pd.DataFrame( {'Accuracy' : accuracy,\n",
        "                  'f1' : f1_all,\n",
        "                  'weightedPrecision': weightedPrecision_all,\n",
        "                  'weightedRecall' : weightedRecall_all,\n",
        "                  'weightedFalsePositiveRate' : weightedFalsePositiveRate_all},\n",
        "                  index = ['Logistic regression', 'Naive Bayes','Descion Tree', 'Random Forest', 'OneVsRest'] )\n",
        "                   \n",
        "df"
      ],
      "metadata": {
        "id": "E7D4dtggnT4b",
        "colab": {
          "base_uri": "https://localhost:8080/",
          "height": 206
        },
        "outputId": "bbc06428-dba1-4811-e508-84354794d12b"
      },
      "execution_count": 68,
      "outputs": [
        {
          "output_type": "execute_result",
          "data": {
            "text/plain": [
              "                     Accuracy        f1  weightedPrecision  weightedRecall  \\\n",
              "Logistic regression  0.763539  0.737919           0.756323        0.748464   \n",
              "Naive Bayes          0.764851  0.763999           0.767959        0.764851   \n",
              "Descion Tree         0.439464  0.269317           0.307442        0.439464   \n",
              "Random Forest        0.439413  0.268282           0.193084        0.439413   \n",
              "OneVsRest            0.751953  0.738523           0.766963        0.751953   \n",
              "\n",
              "                     weightedFalsePositiveRate  \n",
              "Logistic regression                   0.154443  \n",
              "Naive Bayes                           0.140228  \n",
              "Descion Tree                          0.439107  \n",
              "Random Forest                         0.439413  \n",
              "OneVsRest                             0.156499  "
            ],
            "text/html": [
              "\n",
              "  <div id=\"df-dead99a3-facd-46e1-8a61-e3f48507431d\">\n",
              "    <div class=\"colab-df-container\">\n",
              "      <div>\n",
              "<style scoped>\n",
              "    .dataframe tbody tr th:only-of-type {\n",
              "        vertical-align: middle;\n",
              "    }\n",
              "\n",
              "    .dataframe tbody tr th {\n",
              "        vertical-align: top;\n",
              "    }\n",
              "\n",
              "    .dataframe thead th {\n",
              "        text-align: right;\n",
              "    }\n",
              "</style>\n",
              "<table border=\"1\" class=\"dataframe\">\n",
              "  <thead>\n",
              "    <tr style=\"text-align: right;\">\n",
              "      <th></th>\n",
              "      <th>Accuracy</th>\n",
              "      <th>f1</th>\n",
              "      <th>weightedPrecision</th>\n",
              "      <th>weightedRecall</th>\n",
              "      <th>weightedFalsePositiveRate</th>\n",
              "    </tr>\n",
              "  </thead>\n",
              "  <tbody>\n",
              "    <tr>\n",
              "      <th>Logistic regression</th>\n",
              "      <td>0.763539</td>\n",
              "      <td>0.737919</td>\n",
              "      <td>0.756323</td>\n",
              "      <td>0.748464</td>\n",
              "      <td>0.154443</td>\n",
              "    </tr>\n",
              "    <tr>\n",
              "      <th>Naive Bayes</th>\n",
              "      <td>0.764851</td>\n",
              "      <td>0.763999</td>\n",
              "      <td>0.767959</td>\n",
              "      <td>0.764851</td>\n",
              "      <td>0.140228</td>\n",
              "    </tr>\n",
              "    <tr>\n",
              "      <th>Descion Tree</th>\n",
              "      <td>0.439464</td>\n",
              "      <td>0.269317</td>\n",
              "      <td>0.307442</td>\n",
              "      <td>0.439464</td>\n",
              "      <td>0.439107</td>\n",
              "    </tr>\n",
              "    <tr>\n",
              "      <th>Random Forest</th>\n",
              "      <td>0.439413</td>\n",
              "      <td>0.268282</td>\n",
              "      <td>0.193084</td>\n",
              "      <td>0.439413</td>\n",
              "      <td>0.439413</td>\n",
              "    </tr>\n",
              "    <tr>\n",
              "      <th>OneVsRest</th>\n",
              "      <td>0.751953</td>\n",
              "      <td>0.738523</td>\n",
              "      <td>0.766963</td>\n",
              "      <td>0.751953</td>\n",
              "      <td>0.156499</td>\n",
              "    </tr>\n",
              "  </tbody>\n",
              "</table>\n",
              "</div>\n",
              "      <button class=\"colab-df-convert\" onclick=\"convertToInteractive('df-dead99a3-facd-46e1-8a61-e3f48507431d')\"\n",
              "              title=\"Convert this dataframe to an interactive table.\"\n",
              "              style=\"display:none;\">\n",
              "        \n",
              "  <svg xmlns=\"http://www.w3.org/2000/svg\" height=\"24px\"viewBox=\"0 0 24 24\"\n",
              "       width=\"24px\">\n",
              "    <path d=\"M0 0h24v24H0V0z\" fill=\"none\"/>\n",
              "    <path d=\"M18.56 5.44l.94 2.06.94-2.06 2.06-.94-2.06-.94-.94-2.06-.94 2.06-2.06.94zm-11 1L8.5 8.5l.94-2.06 2.06-.94-2.06-.94L8.5 2.5l-.94 2.06-2.06.94zm10 10l.94 2.06.94-2.06 2.06-.94-2.06-.94-.94-2.06-.94 2.06-2.06.94z\"/><path d=\"M17.41 7.96l-1.37-1.37c-.4-.4-.92-.59-1.43-.59-.52 0-1.04.2-1.43.59L10.3 9.45l-7.72 7.72c-.78.78-.78 2.05 0 2.83L4 21.41c.39.39.9.59 1.41.59.51 0 1.02-.2 1.41-.59l7.78-7.78 2.81-2.81c.8-.78.8-2.07 0-2.86zM5.41 20L4 18.59l7.72-7.72 1.47 1.35L5.41 20z\"/>\n",
              "  </svg>\n",
              "      </button>\n",
              "      \n",
              "  <style>\n",
              "    .colab-df-container {\n",
              "      display:flex;\n",
              "      flex-wrap:wrap;\n",
              "      gap: 12px;\n",
              "    }\n",
              "\n",
              "    .colab-df-convert {\n",
              "      background-color: #E8F0FE;\n",
              "      border: none;\n",
              "      border-radius: 50%;\n",
              "      cursor: pointer;\n",
              "      display: none;\n",
              "      fill: #1967D2;\n",
              "      height: 32px;\n",
              "      padding: 0 0 0 0;\n",
              "      width: 32px;\n",
              "    }\n",
              "\n",
              "    .colab-df-convert:hover {\n",
              "      background-color: #E2EBFA;\n",
              "      box-shadow: 0px 1px 2px rgba(60, 64, 67, 0.3), 0px 1px 3px 1px rgba(60, 64, 67, 0.15);\n",
              "      fill: #174EA6;\n",
              "    }\n",
              "\n",
              "    [theme=dark] .colab-df-convert {\n",
              "      background-color: #3B4455;\n",
              "      fill: #D2E3FC;\n",
              "    }\n",
              "\n",
              "    [theme=dark] .colab-df-convert:hover {\n",
              "      background-color: #434B5C;\n",
              "      box-shadow: 0px 1px 3px 1px rgba(0, 0, 0, 0.15);\n",
              "      filter: drop-shadow(0px 1px 2px rgba(0, 0, 0, 0.3));\n",
              "      fill: #FFFFFF;\n",
              "    }\n",
              "  </style>\n",
              "\n",
              "      <script>\n",
              "        const buttonEl =\n",
              "          document.querySelector('#df-dead99a3-facd-46e1-8a61-e3f48507431d button.colab-df-convert');\n",
              "        buttonEl.style.display =\n",
              "          google.colab.kernel.accessAllowed ? 'block' : 'none';\n",
              "\n",
              "        async function convertToInteractive(key) {\n",
              "          const element = document.querySelector('#df-dead99a3-facd-46e1-8a61-e3f48507431d');\n",
              "          const dataTable =\n",
              "            await google.colab.kernel.invokeFunction('convertToInteractive',\n",
              "                                                     [key], {});\n",
              "          if (!dataTable) return;\n",
              "\n",
              "          const docLinkHtml = 'Like what you see? Visit the ' +\n",
              "            '<a target=\"_blank\" href=https://colab.research.google.com/notebooks/data_table.ipynb>data table notebook</a>'\n",
              "            + ' to learn more about interactive tables.';\n",
              "          element.innerHTML = '';\n",
              "          dataTable['output_type'] = 'display_data';\n",
              "          await google.colab.output.renderOutput(dataTable, element);\n",
              "          const docLink = document.createElement('div');\n",
              "          docLink.innerHTML = docLinkHtml;\n",
              "          element.appendChild(docLink);\n",
              "        }\n",
              "      </script>\n",
              "    </div>\n",
              "  </div>\n",
              "  "
            ]
          },
          "metadata": {},
          "execution_count": 68
        }
      ]
    },
    {
      "cell_type": "code",
      "source": [
        "matplotlib.style.use('fivethirtyeight')\n",
        "df['Accuracy'].plot(kind=\"barh\", color=['yellow', 'orange', 'red', 'purple', 'pink'])\n",
        "plt.title('Accuracy of All Models')\n",
        "plt.ylabel('Model')\n",
        "plt.xlabel('Accuracy')\n",
        "plt.show()"
      ],
      "metadata": {
        "colab": {
          "base_uri": "https://localhost:8080/",
          "height": 325
        },
        "id": "2h555qSMdkxM",
        "outputId": "731a40f7-55fd-4206-83e0-b14cbbf838a2"
      },
      "execution_count": 69,
      "outputs": [
        {
          "output_type": "display_data",
          "data": {
            "text/plain": [
              "<Figure size 432x288 with 1 Axes>"
            ],
            "image/png": "[encoded data removed]"
          },
          "metadata": {}
        }
      ]
    },
    {
      "cell_type": "code",
      "source": [
        "matplotlib.style.use('fivethirtyeight')\n",
        "df['f1'].plot(kind=\"barh\", color=['yellow', 'orange', 'red', 'purple', 'pink'])\n",
        "plt.title('f1 score of All Models')\n",
        "plt.ylabel('Model')\n",
        "plt.xlabel('f1')\n",
        "plt.show()"
      ],
      "metadata": {
        "colab": {
          "base_uri": "https://localhost:8080/",
          "height": 325
        },
        "id": "f82OOS-S9q4b",
        "outputId": "8cc1b020-834f-4609-a9dd-9090c11926f5"
      },
      "execution_count": 70,
      "outputs": [
        {
          "output_type": "display_data",
          "data": {
            "text/plain": [
              "<Figure size 432x288 with 1 Axes>"
            ],
            "image/png": "[encoded data removed]"
          },
          "metadata": {}
        }
      ]
    },
    {
      "cell_type": "code",
      "source": [
        "matplotlib.style.use('fivethirtyeight')\n",
        "df['weightedRecall'].plot(kind=\"barh\", color=['yellow', 'orange', 'red', 'purple', 'pink'])\n",
        "plt.title('weightedRecall of All Models')\n",
        "plt.ylabel('Model')\n",
        "plt.xlabel('weightedRecall')\n",
        "plt.show()"
      ],
      "metadata": {
        "colab": {
          "base_uri": "https://localhost:8080/",
          "height": 325
        },
        "id": "PB1yuZIE-FXY",
        "outputId": "f6a8ccf9-4d83-4342-d2b1-45bb6db4c3c1"
      },
      "execution_count": 71,
      "outputs": [
        {
          "output_type": "display_data",
          "data": {
            "text/plain": [
              "<Figure size 432x288 with 1 Axes>"
            ],
            "image/png": "[encoded data removed]"
          },
          "metadata": {}
        }
      ]
    },
    {
      "cell_type": "code",
      "source": [
        "matplotlib.style.use('fivethirtyeight')\n",
        "df['weightedPrecision'].plot(kind=\"barh\", color=['yellow', 'orange', 'red', 'purple', 'pink'])\n",
        "plt.title('precision of All Models')\n",
        "plt.ylabel('Model')\n",
        "plt.xlabel('weightedPrecision')\n",
        "plt.show()"
      ],
      "metadata": {
        "colab": {
          "base_uri": "https://localhost:8080/",
          "height": 325
        },
        "id": "8WaQKQY78Vdr",
        "outputId": "23d7c8e2-b30f-485c-8d8d-85abe8a5064c"
      },
      "execution_count": 72,
      "outputs": [
        {
          "output_type": "display_data",
          "data": {
            "text/plain": [
              "<Figure size 432x288 with 1 Axes>"
            ],
            "image/png": "[encoded data removed]"
          },
          "metadata": {}
        }
      ]
    },
    {
      "cell_type": "code",
      "source": [
        "matplotlib.style.use('fivethirtyeight')\n",
        "df['weightedFalsePositiveRate'].plot(kind=\"barh\", color=['yellow', 'orange', 'red', 'purple', 'pink'])\n",
        "plt.title('weightedFalsePositiveRate of All Models')\n",
        "plt.ylabel('Model')\n",
        "plt.xlabel('weightedFalsePositiveRate')\n",
        "plt.show()"
      ],
      "metadata": {
        "colab": {
          "base_uri": "https://localhost:8080/",
          "height": 325
        },
        "id": "gVXXkZO1-g8w",
        "outputId": "91cd10e9-54b6-4725-965c-5642aa1b914f"
      },
      "execution_count": 73,
      "outputs": [
        {
          "output_type": "display_data",
          "data": {
            "text/plain": [
              "<Figure size 432x288 with 1 Axes>"
            ],
            "image/png": "[encoded data removed]"
          },
          "metadata": {}
        }
      ]
    },
    {
      "cell_type": "code",
      "source": [
        "matplotlib.style.use('fivethirtyeight')\n",
        "df.plot(kind=\"bar\", stacked = False )\n",
        "plt.title('Performance of All Models')\n",
        "plt.xlabel('Model')\n",
        "plt.ylabel('Performance')\n",
        "plt.show()"
      ],
      "metadata": {
        "colab": {
          "base_uri": "https://localhost:8080/",
          "height": 442
        },
        "id": "ZkIwJjCT0SS9",
        "outputId": "f9eb7744-7bb2-4e33-d9c0-efbb78d5668f"
      },
      "execution_count": 74,
      "outputs": [
        {
          "output_type": "display_data",
          "data": {
            "text/plain": [
              "<Figure size 432x288 with 1 Axes>"
            ],
            "image/png": "[encoded data removed]"
          },
          "metadata": {}
        }
      ]
    },
    {
      "cell_type": "code",
      "source": [
        "df3 = data.toPandas()"
      ],
      "metadata": {
        "id": "TKK35nbSeFuY"
      },
      "execution_count": 75,
      "outputs": []
    },
    {
      "cell_type": "code",
      "source": [
        "positives = df3['category'][df3.category == 1]\n",
        "negatives = df3['category'][df3.category == -1]\n",
        "neutrals = df3['category'][df3.category == 0]\n",
        "print('number of positve categorized text is:  {}'.format(len(positives)))\n",
        "print('number of negative categorized text is: {}'.format(len(negatives)))\n",
        "print('number of neutral categorized text is: {}'.format(len(neutrals)))"
      ],
      "metadata": {
        "id": "I71L_w7_eFz9",
        "colab": {
          "base_uri": "https://localhost:8080/"
        },
        "outputId": "0a7aecf9-d7c0-41ad-8e34-21dd3a58990a"
      },
      "execution_count": 76,
      "outputs": [
        {
          "output_type": "stream",
          "name": "stdout",
          "text": [
            "number of positve categorized text is:  86224\n",
            "number of negative categorized text is: 42908\n",
            "number of neutral categorized text is: 66446\n"
          ]
        }
      ]
    },
    {
      "cell_type": "code",
      "source": [
        "df3.hist('category')"
      ],
      "metadata": {
        "id": "-4PkWCv2eFvi",
        "colab": {
          "base_uri": "https://localhost:8080/",
          "height": 320
        },
        "outputId": "2fb576db-34dc-4c5e-9282-f2ffebeee874"
      },
      "execution_count": 77,
      "outputs": [
        {
          "output_type": "execute_result",
          "data": {
            "text/plain": [
              "array([[<AxesSubplot:title={'center':'category'}>]], dtype=object)"
            ]
          },
          "metadata": {},
          "execution_count": 77
        },
        {
          "output_type": "display_data",
          "data": {
            "text/plain": [
              "<Figure size 432x288 with 1 Axes>"
            ],
            "image/png": "[encoded data removed]"
          },
          "metadata": {}
        }
      ]
    },
    {
      "cell_type": "code",
      "source": [],
      "metadata": {
        "id": "zfxAUY--UREO"
      },
      "execution_count": 77,
      "outputs": []
    },
    {
      "cell_type": "code",
      "source": [],
      "metadata": {
        "id": "DBSqksR3URA6"
      },
      "execution_count": 77,
      "outputs": []
    },
    {
      "cell_type": "code",
      "source": [],
      "metadata": {
        "id": "HvqAL3wpUQ9a"
      },
      "execution_count": 77,
      "outputs": []
    }
  ]
}